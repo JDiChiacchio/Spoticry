{
 "cells": [
  {
   "cell_type": "code",
   "execution_count": 2,
   "id": "083f6211",
   "metadata": {},
   "outputs": [],
   "source": [
    "import numpy as np\n",
    "from scipy import spatial\n",
    "import array\n",
    "import sqlite3\n",
    "from fuzzywuzzy import process\n",
    "from IPython.display import clear_output\n",
    "\n",
    "locstr = \"/mnt/datassd2/spoticry-data/\"\n"
   ]
  },
  {
   "cell_type": "code",
   "execution_count": 3,
   "id": "3502fb2b",
   "metadata": {},
   "outputs": [],
   "source": [
    "conn = sqlite3.connect(locstr + \"spoticry.db\")\n",
    "c = conn.cursor()"
   ]
  },
  {
   "cell_type": "code",
   "execution_count": 4,
   "id": "721ceb09",
   "metadata": {},
   "outputs": [],
   "source": [
    "c.execute('''\n",
    "    SELECT DISTINCT songs.song_id, artist, title, vec\n",
    "    FROM transformer\n",
    "    JOIN songs ON transformer.song_id = songs.song_id;\n",
    "''')\n",
    "data = c.fetchall()"
   ]
  },
  {
   "cell_type": "code",
   "execution_count": 5,
   "id": "711040a1",
   "metadata": {},
   "outputs": [],
   "source": [
    "#ids = dict(zip([d[0] for d in data], range(len(data))))\n",
    "ids = [d[0] for d in data]\n",
    "vecs = np.array([np.array(array.array(\"f\", d[3])) for d in data])"
   ]
  },
  {
   "cell_type": "code",
   "execution_count": 6,
   "id": "aeb48cf3",
   "metadata": {},
   "outputs": [],
   "source": [
    "tree = spatial.KDTree(vecs)\n",
    "normed_vecs = np.divide(vecs, np.linalg.norm(vecs, axis = 1, keepdims=True))\n",
    "norm_tree = spatial.KDTree(normed_vecs)\n",
    "id_to_name = dict([(d[0], d[1] + ' : ' + d[2]) for d in data])\n",
    "name_to_id = dict([(d[1] + ' : ' + d[2], d[0]) for d in data])"
   ]
  },
  {
   "cell_type": "code",
   "execution_count": 7,
   "id": "f84bceab",
   "metadata": {},
   "outputs": [],
   "source": [
    "def nearest(vector, num, normalize = True):\n",
    "    if normalize:\n",
    "        vector = np.divide(vector, np.linalg.norm(vector))\n",
    "        return norm_tree.query(vector, num)\n",
    "    else:\n",
    "        return tree.query(vector, num)\n",
    "\n",
    "def combine_songs(name1, name2, op, num):\n",
    "    try:\n",
    "        id1 = name_to_id[name1]\n",
    "        id2 = name_to_id[name2]\n",
    "        index1 = ids.index(id1)\n",
    "        index2 = ids.index(id2)\n",
    "    except:\n",
    "        return None\n",
    "    new = op(vecs[index1], vecs[index2])\n",
    "    dists, inds = nearest(new, num)\n",
    "    songs = [id_to_name[ids[d]] for d in inds]\n",
    "    return songs\n",
    "\n",
    "def similar_songs(song_name, num, normalize = True):\n",
    "    try:\n",
    "        id1 = name_to_id[song_name]\n",
    "        index = ids.index(id1)\n",
    "    except:\n",
    "        return None\n",
    "    dists, inds = nearest(vecs[index], num + 1, normalize)\n",
    "    songs = [id_to_name[ids[d]] for d in inds[1:]]\n",
    "    return zip(dists[1:], songs)\n",
    "\n",
    "def song_search(search_term, num_res = 5):\n",
    "    out = process.extract(search_term, list(name_to_id.keys()), limit=num_res)\n",
    "    return [val[0] for val in out]"
   ]
  },
  {
   "cell_type": "code",
   "execution_count": 10,
   "id": "9767f789",
   "metadata": {
    "scrolled": false
   },
   "outputs": [
    {
     "name": "stdout",
     "output_type": "stream",
     "text": [
      "\n",
      "Similar to Horse Feathers : Blood on the Snow\n",
      "\n",
      "5817593902823.52 |  Pretenders : Talk Of The Town\n",
      "6854282501165.04 |  The Police : Born In The 50's\n",
      "8658489855113.42 |  Ben Folds Five : Cigarette\n",
      "8959207293490.88 |  They Might Be Giants : Don't Let's Start\n",
      "9106526229181.04 |  Gabriella Cilmi : Echo Beach\n"
     ]
    }
   ],
   "source": [
    "query = input(\"Search for a song: \")\n",
    "res = song_search(query)\n",
    "for n in range(len(res)):\n",
    "    print(n, res[n])\n",
    "query = int(input(\"Select a title number: \"))\n",
    "while (query < 0 or query > len(res) - 1):\n",
    "    query = int(input(\"Select a valid title number: \"))\n",
    "clear_output()\n",
    "out = similar_songs(res[query], 5, normalize = False)\n",
    "if out is not None:\n",
    "    print(f\"\\nSimilar to {res[query]}\\n\")\n",
    "    for song in out:\n",
    "        print(\"{:.2f} | \".format(song[0]), song[1])\n"
   ]
  },
  {
   "cell_type": "code",
   "execution_count": 42,
   "id": "82e78a9f",
   "metadata": {
    "scrolled": true
   },
   "outputs": [
    {
     "name": "stdout",
     "output_type": "stream",
     "text": [
      "The Strokes : New York City Cops\n",
      "Ensiferum : White Storm\n",
      "HAMMERFALL : Born To Rule\n",
      "Mercyful Fate : Is That You_ Melissa\n",
      "Nina Simone : One September Day\n"
     ]
    }
   ],
   "source": [
    "out = combine_songs('Paul Simon : Kathy\\'s Song', 'Blink-182 : Wasting Time',np.add, 5)\n",
    "for song in out:\n",
    "    print(song)"
   ]
  },
  {
   "cell_type": "code",
   "execution_count": 24,
   "id": "ae0e078c",
   "metadata": {},
   "outputs": [
    {
     "data": {
      "text/plain": [
       "37070"
      ]
     },
     "execution_count": 24,
     "metadata": {},
     "output_type": "execute_result"
    }
   ],
   "source": [
    "len(ids)"
   ]
  },
  {
   "cell_type": "code",
   "execution_count": null,
   "id": "b01bf1e0",
   "metadata": {},
   "outputs": [],
   "source": []
  }
 ],
 "metadata": {
  "kernelspec": {
   "display_name": "Python 3",
   "language": "python",
   "name": "python3"
  },
  "language_info": {
   "codemirror_mode": {
    "name": "ipython",
    "version": 3
   },
   "file_extension": ".py",
   "mimetype": "text/x-python",
   "name": "python",
   "nbconvert_exporter": "python",
   "pygments_lexer": "ipython3",
   "version": "3.8.5"
  }
 },
 "nbformat": 4,
 "nbformat_minor": 5
}
