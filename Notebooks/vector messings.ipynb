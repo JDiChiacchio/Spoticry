{
 "cells": [
  {
   "cell_type": "code",
   "execution_count": 64,
   "id": "226547b3",
   "metadata": {},
   "outputs": [],
   "source": [
    "import numpy as np\n",
    "from scipy import spatial\n",
    "import array\n",
    "import sqlite3\n",
    "from fuzzywuzzy import process"
   ]
  },
  {
   "cell_type": "code",
   "execution_count": 25,
   "id": "a3d5053f",
   "metadata": {},
   "outputs": [],
   "source": [
    "conn = sqlite3.connect(\"/mnt/datassd/csci1951a-spoticry-data/acoustic.db\")\n",
    "c = conn.cursor()"
   ]
  },
  {
   "cell_type": "code",
   "execution_count": 26,
   "id": "94e1fc50",
   "metadata": {},
   "outputs": [],
   "source": [
    "c.execute('''\n",
    "    SELECT DISTINCT song_id, vec\n",
    "    FROM transformer\n",
    "''')\n",
    "data = c.fetchall()\n",
    "conn.close()"
   ]
  },
  {
   "cell_type": "code",
   "execution_count": 35,
   "id": "f61ee30c",
   "metadata": {},
   "outputs": [],
   "source": [
    "conn = sqlite3.connect(\"/mnt/datassd/csci1951a-spoticry-data/spoticry.db\")\n",
    "c = conn.cursor()"
   ]
  },
  {
   "cell_type": "code",
   "execution_count": 36,
   "id": "949f06e7",
   "metadata": {},
   "outputs": [],
   "source": [
    "c.execute('''\n",
    "    SELECT DISTINCT song_id, artist, title\n",
    "    FROM songs\n",
    "''')\n",
    "names = c.fetchall()\n",
    "conn.close()"
   ]
  },
  {
   "cell_type": "code",
   "execution_count": null,
   "id": "5d9261ce",
   "metadata": {},
   "outputs": [],
   "source": [
    "#ids = dict(zip([d[0] for d in data], range(len(data))))\n",
    "ids = [d[0] for d in data]\n",
    "vecs = np.array([np.array(array.array(\"f\", d[1])) for d in data])"
   ]
  },
  {
   "cell_type": "code",
   "execution_count": null,
   "id": "886ff51c",
   "metadata": {},
   "outputs": [],
   "source": [
    "tree = spatial.KDTree(vecs)\n",
    "id_to_name = dict([(d[0], d[1] + ' : ' + d[2]) for d in names if d[0]])\n",
    "name_to_id = dict([(d[1] + ' : ' + d[2], d[0]) for d in names if d[0] if d[0] in ids])"
   ]
  },
  {
   "cell_type": "code",
   "execution_count": 54,
   "id": "c9f02731",
   "metadata": {},
   "outputs": [],
   "source": [
    "def combine_songs(name1, name2, op):\n",
    "    try:\n",
    "        id1 = name_to_id[name1]\n",
    "        id2 = name_to_id[name2]\n",
    "        index1 = ids.index(id1)\n",
    "        index2 = ids.index(id2)\n",
    "    except:\n",
    "        return None\n",
    "    new = op(vecs[index1], vecs[index2])\n",
    "    ind = tree.query(new)[1]\n",
    "    return id_to_name[ids[ind]]\n",
    "    "
   ]
  },
  {
   "cell_type": "code",
   "execution_count": 57,
   "id": "605e1f1d",
   "metadata": {},
   "outputs": [
    {
     "data": {
      "text/plain": [
       "11163"
      ]
     },
     "execution_count": 57,
     "metadata": {},
     "output_type": "execute_result"
    }
   ],
   "source": [
    "list(name_to_id.keys())"
   ]
  },
  {
   "cell_type": "code",
   "execution_count": 56,
   "id": "5067d47c",
   "metadata": {},
   "outputs": [
    {
     "name": "stdout",
     "output_type": "stream",
     "text": [
      "God Forbid : To The Fallen Hero\n"
     ]
    }
   ],
   "source": [
    "out = combine_songs('Biffy Clyro : Love Has A Diameter', 'Luther Allison : K.T.',np.subtract)\n",
    "print(out)"
   ]
  },
  {
   "cell_type": "code",
   "execution_count": 66,
   "id": "7dd7be40",
   "metadata": {},
   "outputs": [
    {
     "name": "stdout",
     "output_type": "stream",
     "text": [
      "[('Billy Talent : Standing In The Rain', 86), ('Billy Ray Cyrus : Achy Breaky Heart', 86), ('Billy Fury : Halfway To Paradise', 86)]\n"
     ]
    }
   ],
   "source": [
    "maybe = process.extract(\"Billy Joel : Vienna\",list(name_to_id.keys()), limit=3)\n",
    "print(maybe)"
   ]
  },
  {
   "cell_type": "code",
   "execution_count": null,
   "id": "d894b8ba",
   "metadata": {},
   "outputs": [],
   "source": []
  }
 ],
 "metadata": {
  "kernelspec": {
   "display_name": "Python 3",
   "language": "python",
   "name": "python3"
  },
  "language_info": {
   "codemirror_mode": {
    "name": "ipython",
    "version": 3
   },
   "file_extension": ".py",
   "mimetype": "text/x-python",
   "name": "python",
   "nbconvert_exporter": "python",
   "pygments_lexer": "ipython3",
   "version": "3.8.5"
  }
 },
 "nbformat": 4,
 "nbformat_minor": 5
}
